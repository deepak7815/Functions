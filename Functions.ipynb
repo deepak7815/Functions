{
 "cells": [
  {
   "cell_type": "markdown",
   "id": "f3fef31e-f4ab-47aa-b49e-defcd702a26c",
   "metadata": {},
   "source": [
    "Functions Theory\n",
    "\n",
    "\n"
   ]
  },
  {
   "cell_type": "code",
   "execution_count": 6,
   "id": "6e886453-8711-46e2-8133-3f895fb824a7",
   "metadata": {},
   "outputs": [
    {
     "name": "stdout",
     "output_type": "stream",
     "text": [
      "8\n",
      "8\n"
     ]
    }
   ],
   "source": [
    "1. #What is the difference between a function and a method in Python?\n",
    "\n",
    "  #Function in Python\n",
    "\n",
    "#A function is a block of reusable code defined with the def keyword (or lambda for anonymous functions).\n",
    "\n",
    "#It is not tied to any object unless explicitly passed one.\n",
    "\n",
    "#You call it independently.\"\"\"\n",
    "\n",
    " #Example:\n",
    "\n",
    "def add(a, b):\n",
    "    return a + b\n",
    "\n",
    "print(add(3, 5))   # 8\n",
    "\n",
    " #Method in Python\n",
    "\n",
    "#A method is also a function, but it is associated with an object (belongs to a class).\n",
    "\n",
    "#It always takes the instance (self) as its first argument (for instance methods).\n",
    "\n",
    "#Called on objects using dot notation.\"\"\"\n",
    "\n",
    "  #Example:\n",
    "\n",
    "class Calculator:\n",
    "    def add(self, a, b):   # 'self' refers to the object\n",
    "        return a + b\n",
    "\n",
    "calc = Calculator()\n",
    "print(calc.add(3, 5))   # 8"
   ]
  },
  {
   "cell_type": "code",
   "execution_count": 7,
   "id": "4a599045-b9a0-4377-9b19-a202d9e439e4",
   "metadata": {},
   "outputs": [
    {
     "name": "stdout",
     "output_type": "stream",
     "text": [
      "Hello, Alice\n"
     ]
    }
   ],
   "source": [
    "2. # Explain the concept of function arguments and parameters in Python.\n",
    "\n",
    " #Parameters\n",
    "\n",
    "#Parameters are placeholders/variables defined in the function signature.\n",
    "\n",
    "#They specify what kind of input the function expects.\n",
    "\n",
    "#They exist only inside the function.\n",
    "\n",
    " #Example: \n",
    "\n",
    "def greet(name):   # 'name' is a parameter\n",
    "    print(\"Hello,\", name)\n",
    "\n",
    "  #Arguments:\n",
    "\n",
    "#Arguments are the actual values you pass to a function when calling it.\n",
    "\n",
    "#They get assigned to the corresponding parameters.\n",
    "\n",
    " #Example:\n",
    "\n",
    "greet(\"Alice\")   # \"Alice\" is an argument"
   ]
  },
  {
   "cell_type": "markdown",
   "id": "aeee68bf-abcf-404d-a82f-313c3b7efd15",
   "metadata": {},
   "source": [
    "3. What are the different ways to define and call a function in Python?\n",
    "\n",
    " - Defined using the def keyword.\n",
    "\n",
    "def greet(name):\n",
    "    return f\"Hello, {name}\"\n",
    "\n",
    "# Call\n",
    "print(greet(\"Alice\"))\n",
    "\n",
    "  - Function with Default Parameters\n",
    "\n",
    "Provides a fallback value if no argument is passed.\n",
    "\n",
    "def greet(name=\"Guest\"):\n",
    "    return f\"Hello, {name}\"\n",
    "\n",
    "print(greet())        # Hello, Guest\n",
    "print(greet(\"Bob\"))   # Hello, Bob\n",
    "\n",
    "  - Function with Keyword Arguments\n",
    "\n",
    "Arguments are passed with parameter names, order doesn’t matter.\n",
    "\n",
    "def student(name, age):\n",
    "    return f\"{name} is {age} years old\"\n",
    "\n",
    "print(student(age=20, name=\"Alice\"))\n",
    "\n",
    "  - Function with Arbitrary Positional Arguments (*args)\n",
    "\n",
    "Collects extra arguments into a tuple.\n",
    "\n",
    "def add_numbers(*args):\n",
    "    return sum(args)\n",
    "\n",
    "print(add_numbers(2, 4, 6, 8))  # 20\n",
    "\n",
    "  - Function with Arbitrary Keyword Arguments (**kwargs)\n",
    "\n",
    "Collects keyword arguments into a dictionary.\n",
    "\n",
    "def show_info(**kwargs):\n",
    "    return kwargs\n",
    "\n",
    "print(show_info(name=\"Alice\", age=25, city=\"Paris\"))\n",
    "# {'name': 'Alice', 'age': 25, 'city': 'Paris'}\n",
    "\n",
    "  - Lambda Function (Anonymous Function)\n",
    "\n",
    "A one-line function using lambda.\n",
    "\n",
    "square = lambda x: x ** 2\n",
    "print(square(5))  # 25\n",
    "\n",
    "  - Recursive Function\n",
    "\n",
    "A function that calls itself.\n",
    "\n",
    "def factorial(n):\n",
    "    if n == 0:\n",
    "        return 1\n",
    "    return n * factorial(n - 1)\n",
    "\n",
    "print(factorial(5))  # 120\n",
    "\n",
    "  - Calling a Function as an Argument\n",
    "\n",
    "Functions can be passed to other functions.\n",
    "\n",
    "def apply(func, x):\n",
    "    return func(x)\n",
    "\n",
    "print(apply(lambda n: n**2, 4))  # 16"
   ]
  },
  {
   "cell_type": "markdown",
   "id": "24b16b53-cc92-4a08-a99c-ee9e5c00b0fb",
   "metadata": {},
   "source": [
    "4. What is the purpose of the `return` statement in a Python function?\n",
    "\n",
    "\n",
    " - Purpose of return in Python\n",
    "\n",
    "The return statement is used inside a function to:\n",
    "\n",
    "Send a value back to the caller\n",
    "\n",
    "Without return, a function gives back None by default.\n",
    "\n",
    "With return, you can pass back results.\n",
    "\n",
    "Exit the function immediately\n",
    "\n",
    "As soon as Python executes return, it stops the function.\n",
    "\n",
    "Any code after return won’t run.\n",
    "\n",
    "  Examples:\n",
    " -  Function without return\n",
    "def greet(name):\n",
    "    print(\"Hello,\", name)\n",
    "\n",
    "result = greet(\"Alice\")\n",
    "print(result)   # Output: None"
   ]
  },
  {
   "cell_type": "raw",
   "id": "a7213036-9c13-42ca-944d-f9420f68e3ae",
   "metadata": {},
   "source": [
    "5. What are iterators in Python and how do they differ from iterables?\n",
    "\n",
    " 1. Iterable\n",
    "\n",
    "An iterable is any Python object that can return an iterator.\n",
    "\n",
    "It has the __iter__() method (and sometimes __getitem__()).\n",
    "\n",
    "Examples: lists, tuples, strings, sets, dictionaries, ranges.\n",
    "\n",
    "You can loop through them with for loops.\n",
    "\n",
    " Example:\n",
    "\n",
    "my_list = [1, 2, 3]\n",
    "\n",
    "# Iterable object\n",
    "for item in my_list:\n",
    "    print(item)\n",
    "\n",
    "\n",
    " Here, my_list is an iterable.\n",
    "\n",
    "  Iterator\n",
    "\n",
    "An iterator is the actual object used to iterate over an iterable.\n",
    "\n",
    "It has two important methods:\n",
    "\n",
    "__iter__() → returns the iterator object itself\n",
    "\n",
    "__next__() → returns the next item, raises StopIteration when no items left\n",
    "\n",
    "You create an iterator by calling iter(iterable).\n",
    "\n",
    " Example:\n",
    "\n",
    "my_list = [1, 2, 3]\n",
    "it = iter(my_list)   # create iterator\n",
    "\n",
    "print(next(it))  # 1\n",
    "print(next(it))  # 2\n",
    "print(next(it))  # 3\n",
    "# print(next(it))  #  Raises StopIteration"
   ]
  },
  {
   "cell_type": "markdown",
   "id": "cbc1568f-4596-4617-a73f-1a8eaacb7d22",
   "metadata": {},
   "source": [
    "6. Explain the concept of generators in Python and how they are defined.\n",
    "\n",
    "\n",
    " A generator in Python is a special type of iterator that allows you to generate values on the fly (lazy evaluation) instead of storing them all in memory.\n",
    "\n",
    "Uses the yield keyword instead of return.\n",
    "\n",
    "Produces a sequence of values one at a time.\n",
    "\n",
    "Saves memory (especially for large datasets).\n",
    "\n",
    " Defining Generator\n",
    " -  Generator Function\n",
    "\n",
    "A normal function but with yield instead of return.\n",
    "\n",
    " Example:\n",
    "\n",
    "def count_up_to(n):\n",
    "    count = 1\n",
    "    while count <= n:\n",
    "        yield count  # yield pauses and returns a value\n",
    "        count += 1\n",
    "\n",
    "# Create generator\n",
    "gen = count_up_to(5)\n",
    "\n",
    "print(next(gen))  # 1\n",
    "print(next(gen))  # 2\n",
    "print(next(gen))  # 3"
   ]
  },
  {
   "cell_type": "markdown",
   "id": "44bb8f65-575a-4645-a9b4-05790ff515a6",
   "metadata": {},
   "source": [
    "7. What are the advantages of using generators over regular functions?\n",
    "\n",
    "\n",
    "- Memory Efficiency\n",
    "\n",
    "Regular functions/lists → Store all results in memory at once.\n",
    "\n",
    "Generators → Produce one value at a time (lazy evaluation).\n",
    "\n",
    "Perfect for working with large datasets or streams.\n",
    "\n",
    "# Using list comprehension (all stored in memory)\n",
    "nums = [i for i in range(10**6)]\n",
    "\n",
    "# Using generator (produces values one by one)\n",
    "nums_gen = (i for i in range(10**6))\n",
    "\n",
    " - Lazy Evaluation (On-demand execution)\n",
    "\n",
    "Generators don’t compute values until needed.\n",
    "\n",
    "Saves time and resources when you don’t need all results.\n",
    "\n",
    "def numbers():\n",
    "    for i in range(5):\n",
    "        print(\"Generating:\", i)\n",
    "        yield i\n",
    "\n",
    "gen = numbers()\n",
    "print(next(gen))  # Generates only first value"
   ]
  },
  {
   "cell_type": "markdown",
   "id": "ffdfa7a8-2671-409b-8ea3-9cde783d985d",
   "metadata": {},
   "source": [
    "8.  What is a lambda function in Python and when is it typically used?\n",
    "\n",
    "\n",
    " - A lambda function is an anonymous function (a function without a name).\n",
    "\n",
    " - Defined using the lambda keyword instead of def.\n",
    "\n",
    " - It can have any number of arguments but only one expression.\n",
    "\n",
    " - The result of the expression is automatically returned. \n",
    "\n",
    "  Example of a Lambda Function\n",
    " Regular function:\n",
    "def square(x):\n",
    "    return x * x\n",
    "\n",
    " Lambda function:\n",
    "square_lambda = lambda x: x * x\n",
    "\n",
    "print(square_lambda(5))  # 25\n",
    "\n",
    "\n",
    "Both functions do the same thing — but lambda makes it shorter."
   ]
  },
  {
   "cell_type": "markdown",
   "id": "c9b66dfa-7aa5-41bf-857c-e280c35b8367",
   "metadata": {},
   "source": [
    "9.  Explain the purpose and usage of the `map()` function in Python.\n",
    "\n",
    " - The map() function applies a given function to each item in an iterable (like a list, tuple, etc.) and returns a map object (an iterator).\n",
    "\n",
    "You can then convert it to a list, tuple, or set.\n",
    "\n",
    "map(function, iterable)\n",
    "\n",
    "function → The function to apply.\n",
    "\n",
    "iterable → The sequence (list, tuple, etc.) to process.\n",
    "\n",
    " -  Example 1: Using a Regular Function\n",
    "def square(x):\n",
    "    return x * x\n",
    "\n",
    "numbers = [1, 2, 3, 4, 5]\n",
    "result = map(square, numbers)\n",
    "\n",
    "print(list(result))  # [1, 4, 9, 16, 25]\n"
   ]
  },
  {
   "cell_type": "markdown",
   "id": "3059690f-d020-4638-8262-f33feac00d2c",
   "metadata": {},
   "source": [
    "10. What is the difference between `map()`, `reduce()`, and `filter()` functions in Python?\n",
    "\n",
    "\n",
    " - Applies a function to each element of an iterable and returns an iterator of results.\n",
    "\n",
    " Use Case: Transform data.\n",
    "\n",
    "numbers = [1, 2, 3, 4, 5]\n",
    "\n",
    " Square each number\n",
    "squared = map(lambda x: x**2, numbers)\n",
    "print(list(squared))  # [1, 4, 9, 16, 25]\n",
    "\n",
    " - filter()\n",
    "\n",
    " Applies a function that returns True/False to each element, and keeps only those for which the function returns True.\n",
    "\n",
    " Use Case: Filter data.\n",
    "\n",
    "numbers = [1, 2, 3, 4, 5, 6]\n",
    "\n",
    " Keep only even numbers\n",
    "evens = filter(lambda x: x % 2 == 0, numbers)\n",
    "print(list(evens))  # [2, 4, 6]\n",
    "\n",
    " -  reduce()\n",
    "\n",
    " Repeatedly applies a function cumulatively to the elements of an iterable, reducing it to a single value.\n",
    " Must be imported from functools.\n",
    "\n",
    " Use Case: Aggregate data.\n",
    "\n",
    "from functools import reduce\n",
    "\n",
    "numbers = [1, 2, 3, 4, 5]\n",
    "\n",
    " Sum all numbers\n",
    "total = reduce(lambda x, y: x + y, numbers)\n",
    "print(total)  # 15"
   ]
  },
  {
   "cell_type": "code",
   "execution_count": null,
   "id": "ec41cdcd-92a6-492e-b2b6-60cf824c14dd",
   "metadata": {},
   "outputs": [],
   "source": []
  },
  {
   "cell_type": "code",
   "execution_count": null,
   "id": "ca2fc029-d483-4cf9-9ce9-bedcac212b63",
   "metadata": {},
   "outputs": [],
   "source": []
  },
  {
   "cell_type": "markdown",
   "id": "7b2eeb3b-9828-490d-a29e-02133df8d32e",
   "metadata": {},
   "source": [
    "\n",
    "Practical Questions:\n",
    "\n"
   ]
  },
  {
   "cell_type": "code",
   "execution_count": 16,
   "id": "d43f9470-d4bc-4047-99cf-ddeb1ec60314",
   "metadata": {},
   "outputs": [
    {
     "name": "stdout",
     "output_type": "stream",
     "text": [
      "Sum of even numbers: 22\n"
     ]
    }
   ],
   "source": [
    "#1.  Write a Python function that takes a list of numbers as input and returns the sum of all even numbers in the list.\n",
    "\n",
    "def sum_of_even_numbers(numbers):\n",
    "    total = 0\n",
    "    for num in numbers:\n",
    "        if num % 2 == 0:   # check if number is even\n",
    "            total += num\n",
    "    return total\n",
    "\n",
    "# Example usage\n",
    "my_list = [1, 2, 3, 4, 5, 6, 10]\n",
    "print(\"Sum of even numbers:\", sum_of_even_numbers(my_list))\n",
    "\n",
    "          "
   ]
  },
  {
   "cell_type": "code",
   "execution_count": 17,
   "id": "974888e5-8116-4699-8a3b-1427877acaca",
   "metadata": {},
   "outputs": [
    {
     "name": "stdout",
     "output_type": "stream",
     "text": [
      "Original string: Python\n",
      "Reversed string: nohtyP\n"
     ]
    }
   ],
   "source": [
    "#2. Create a Python function that accepts a string and returns the reverse of that string\n",
    "\n",
    "\n",
    "def reverse_string(s):\n",
    "    return s[::-1]   # slicing method to reverse\n",
    "\n",
    "# Example usage\n",
    "text = \"Python\"\n",
    "print(\"Original string:\", text)\n",
    "print(\"Reversed string:\", reverse_string(text))\n"
   ]
  },
  {
   "cell_type": "code",
   "execution_count": 18,
   "id": "cee38f3c-7f80-43e2-8c38-18b516160ea0",
   "metadata": {},
   "outputs": [
    {
     "name": "stdout",
     "output_type": "stream",
     "text": [
      "Original list: [1, 2, 3, 4, 5]\n",
      "Squared list: [1, 4, 9, 16, 25]\n"
     ]
    }
   ],
   "source": [
    "#3.  Implement a Python function that takes a list of integers and returns a new list containing the squares of each number.\n",
    "\n",
    "\n",
    "def square_list(numbers):\n",
    "    return [num ** 2 for num in numbers]   # list comprehension\n",
    "\n",
    "# Example usage\n",
    "my_list = [1, 2, 3, 4, 5]\n",
    "print(\"Original list:\", my_list)\n",
    "print(\"Squared list:\", square_list(my_list))\n",
    "\n",
    " "
   ]
  },
  {
   "cell_type": "code",
   "execution_count": 19,
   "id": "c079ff26-063a-43d0-a00a-848bf1fa4b25",
   "metadata": {},
   "outputs": [
    {
     "name": "stdout",
     "output_type": "stream",
     "text": [
      "2 3 5 7 11 13 17 19 23 29 31 37 41 43 47 53 59 61 67 71 73 79 83 89 97 101 103 107 109 113 127 131 137 139 149 151 157 163 167 173 179 181 191 193 197 199 "
     ]
    }
   ],
   "source": [
    "#4. Write a Python function that checks if a given number is prime or not from 1 to 200.\n",
    "\n",
    "def is_prime(n):\n",
    "    if n < 2:   # 0 and 1 are not prime\n",
    "        return False\n",
    "    for i in range(2, int(n**0.5) + 1):  # check divisibility up to sqrt(n)\n",
    "        if n % i == 0:\n",
    "            return False\n",
    "    return True\n",
    "\n",
    "# Print prime numbers from 1 to 200\n",
    "for num in range(1, 201):\n",
    "    if is_prime(num):\n",
    "        print(num, end=\" \")\n"
   ]
  },
  {
   "cell_type": "code",
   "execution_count": 20,
   "id": "97a8e207-5979-425b-9f69-6de4264ead34",
   "metadata": {},
   "outputs": [
    {
     "name": "stdout",
     "output_type": "stream",
     "text": [
      "0 1 1 2 3 5 8 13 21 34 "
     ]
    }
   ],
   "source": [
    "#5.  Create an iterator class in Python that generates the Fibonacci sequence up to a specified number of terms.\n",
    "\n",
    "\n",
    "# Fibonacci Iterator Class\n",
    "class FibonacciIterator:\n",
    "    def __init__(self, n_terms):\n",
    "        self.n_terms = n_terms   # total terms to generate\n",
    "        self.count = 0\n",
    "        self.a, self.b = 0, 1    # first two Fibonacci numbers\n",
    "\n",
    "    def __iter__(self):\n",
    "        return self   # iterator object returns itself\n",
    "\n",
    "    def __next__(self):\n",
    "        if self.count >= self.n_terms:  # stop condition\n",
    "            raise StopIteration\n",
    "        if self.count == 0:\n",
    "            self.count += 1\n",
    "            return self.a\n",
    "        elif self.count == 1:\n",
    "            self.count += 1\n",
    "            return self.b\n",
    "        else:\n",
    "            self.a, self.b = self.b, self.a + self.b\n",
    "            self.count += 1\n",
    "            return self.b\n",
    "\n",
    "\n",
    "# Example usage:\n",
    "fib = FibonacciIterator(10)  # first 10 Fibonacci numbers\n",
    "for num in fib:\n",
    "    print(num, end=\" \")\n"
   ]
  },
  {
   "cell_type": "code",
   "execution_count": 21,
   "id": "0ecd5382-c930-4545-9e39-9dc953d87ace",
   "metadata": {},
   "outputs": [
    {
     "name": "stdout",
     "output_type": "stream",
     "text": [
      "1 2 4 8 16 32 64 128 256 512 1024 "
     ]
    }
   ],
   "source": [
    "#6.  Write a generator function in Python that yields the powers of 2 up to a given exponent.\n",
    "\n",
    "# Generator function for powers of 2\n",
    "def powers_of_two(n):\n",
    "    for exp in range(n + 1):   # include n\n",
    "        yield 2 ** exp\n",
    "\n",
    "# Example usage\n",
    "for value in powers_of_two(10):\n",
    "    print(value, end=\" \")\n"
   ]
  },
  {
   "cell_type": "code",
   "execution_count": 26,
   "id": "5481d88f-cc9c-4ea4-bd07-99eab5fe3024",
   "metadata": {},
   "outputs": [
    {
     "name": "stdout",
     "output_type": "stream",
     "text": [
      "Original list: [(1, 5), (3, 1), (4, 7), (2, 3)]\n",
      "Sorted list (by second element): [(3, 1), (2, 3), (1, 5), (4, 7)]\n"
     ]
    }
   ],
   "source": [
    "#8. Use a lambda function in Python to sort a list of tuples based on the second element of each tuple.\n",
    "\n",
    "# List of tuples\n",
    "data = [(1, 5), (3, 1), (4, 7), (2, 3)]\n",
    "\n",
    "# Sort by second element of each tuple\n",
    "sorted_data = sorted(data, key=lambda x: x[1])\n",
    "\n",
    "print(\"Original list:\", data)\n",
    "print(\"Sorted list (by second element):\", sorted_data)\n"
   ]
  },
  {
   "cell_type": "code",
   "execution_count": 25,
   "id": "0c29cdf4-db96-4bb0-af9a-e4ce067c1618",
   "metadata": {},
   "outputs": [
    {
     "name": "stdout",
     "output_type": "stream",
     "text": [
      "Celsius:    [0, 20, 37, 100]\n",
      "Fahrenheit: [32.0, 68.0, 98.6, 212.0]\n"
     ]
    }
   ],
   "source": [
    "#9. Write a Python program that uses `map()` to convert a list of temperatures from Celsius to Fahrenheit.\n",
    "\n",
    "\n",
    "# List of Celsius temperatures\n",
    "celsius = [0, 20, 37, 100]\n",
    "\n",
    "# Convert to Fahrenheit using map + lambda\n",
    "fahrenheit = list(map(lambda c: (c * 9/5) + 32, celsius))\n",
    "\n",
    "print(\"Celsius:   \", celsius)\n",
    "print(\"Fahrenheit:\", fahrenheit)\n"
   ]
  },
  {
   "cell_type": "code",
   "execution_count": 27,
   "id": "32a20b85-014d-4601-8638-b62c83ffbf7e",
   "metadata": {},
   "outputs": [
    {
     "name": "stdout",
     "output_type": "stream",
     "text": [
      "Original: Hello World, Python is awesome!\n",
      "Without vowels: Hll Wrld, Pythn s wsm!\n"
     ]
    }
   ],
   "source": [
    "#10. Create a Python program that uses `filter()` to remove all the vowels from a given string.\n",
    "\n",
    "def remove_vowels(text):\n",
    "    vowels = \"aeiouAEIOU\"\n",
    "    # Keep only characters that are NOT vowels\n",
    "    result = \"\".join(filter(lambda ch: ch not in vowels, text))\n",
    "    return result\n",
    "\n",
    "# Example usage\n",
    "my_string = \"Hello World, Python is awesome!\"\n",
    "print(\"Original:\", my_string)\n",
    "print(\"Without vowels:\", remove_vowels(my_string))\n"
   ]
  },
  {
   "cell_type": "code",
   "execution_count": 28,
   "id": "eb211e86-55df-4e3a-b589-9c9fa2980331",
   "metadata": {},
   "outputs": [
    {
     "name": "stdout",
     "output_type": "stream",
     "text": [
      "[(34587, 163.8), (98762, 284.0), (77226, 108.85000000000001), (88112, 84.97)]\n"
     ]
    }
   ],
   "source": [
    "#11. Imagine an accounting routine used in a book shop. It works on a list with sublists, which look like this:\n",
    "\n",
    "#Order Number  Book Title and Auther                     Quantity         price\n",
    "#34587         Learing python, Mark Lutz                  4                40.95\n",
    "#98762         Programming python, mark Lutz              5                56.80\n",
    "#77226         Head First Python, paul Barry              3                32.95\n",
    "#88112         Einfuhrung in Python3, Bernd Klein         3                24.99\n",
    "\n",
    "\n",
    "#Write a Python program, which returns a list with 2-tuples. Each tuple consists of the order number and the\n",
    "#product of the price per item and the quantity. The product should be increased by 10,- € if the value of the\n",
    "#order is smaller than 100,00 €\n",
    "\n",
    "# List of orders: [order_number, book_title, quantity, price]\n",
    "orders = [\n",
    "    [34587, \"Learning Python, Mark Lutz\", 4, 40.95],\n",
    "    [98762, \"Programming Python, Mark Lutz\", 5, 56.80],\n",
    "    [77226, \"Head First Python, Paul Barry\", 3, 32.95],\n",
    "    [88112, \"Einfuhrung in Python3, Bernd Klein\", 3, 24.99]\n",
    "]\n",
    "\n",
    "# Use map and lambda to create the required list of tuples\n",
    "result = list(map(lambda order: (\n",
    "    order[0], \n",
    "    order[2] * order[3] + (10 if order[2] * order[3] < 100 else 0)\n",
    "), orders))\n",
    "\n",
    "print(result)\n"
   ]
  },
  {
   "cell_type": "code",
   "execution_count": null,
   "id": "3fb1bb3f-e02b-4b4a-a449-f2b09c385759",
   "metadata": {},
   "outputs": [],
   "source": []
  },
  {
   "cell_type": "code",
   "execution_count": null,
   "id": "3050dc85-9008-4b11-a435-18c7924fbb15",
   "metadata": {},
   "outputs": [],
   "source": []
  }
 ],
 "metadata": {
  "kernelspec": {
   "display_name": "Python 3 (ipykernel)",
   "language": "python",
   "name": "python3"
  },
  "language_info": {
   "codemirror_mode": {
    "name": "ipython",
    "version": 3
   },
   "file_extension": ".py",
   "mimetype": "text/x-python",
   "name": "python",
   "nbconvert_exporter": "python",
   "pygments_lexer": "ipython3",
   "version": "3.13.7"
  }
 },
 "nbformat": 4,
 "nbformat_minor": 5
}
